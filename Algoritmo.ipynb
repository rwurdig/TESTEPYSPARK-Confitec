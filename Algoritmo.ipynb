{
  "nbformat": 4,
  "nbformat_minor": 0,
  "metadata": {
    "colab": {
      "provenance": [],
      "authorship_tag": "ABX9TyPbbVV4EGRrNuVLxbTvnrpe",
      "include_colab_link": true
    },
    "kernelspec": {
      "name": "python3",
      "display_name": "Python 3"
    },
    "language_info": {
      "name": "python"
    }
  },
  "cells": [
    {
      "cell_type": "markdown",
      "metadata": {
        "id": "view-in-github",
        "colab_type": "text"
      },
      "source": [
        "<a href=\"https://colab.research.google.com/github/rwurdig/TESTEPYSPARK-Confitec/blob/main/Algoritmo.ipynb\" target=\"_parent\"><img src=\"https://colab.research.google.com/assets/colab-badge.svg\" alt=\"Open In Colab\"/></a>"
      ]
    },
    {
      "cell_type": "code",
      "execution_count": null,
      "metadata": {
        "id": "tAMx0Dg8CjiN"
      },
      "outputs": [],
      "source": [
        "from random import randint\n",
        "\n",
        "import psutil\n",
        "\n",
        "\n",
        "class Matriz:\n",
        "    def __init__(self, linhas):\n",
        "        self.linhas = linhas\n",
        "        self.colunas = linhas\n",
        "        self.matriz = []\n",
        "        for i in range(linhas):\n",
        "            self.matriz.append([])\n",
        "            for j in range(self.colunas):\n",
        "                self.matriz[i].append(randint(0, 10))\n",
        "\n",
        "    def __str__(self):\n",
        "        return str(self.matriz)\n",
        "\n",
        "    def __mul__(self, outra):\n",
        "        if self.colunas != outra.linhas:\n",
        "            return \"Impossivel multiplicar\"\n",
        "        else:\n",
        "            resultado = []\n",
        "            for i in range(self.linhas):\n",
        "                resultado.append([])\n",
        "                for j in range(outra.colunas):\n",
        "                    resultado[i].append(0)\n",
        "                    for k in range(self.colunas):\n",
        "                        resultado[i][j] += self.matriz[i][k] * outra.matriz[k][j]\n",
        "            return resultado\n",
        "\n",
        "\n",
        "if __name__ == \"__main__\":\n",
        "\n",
        "    linhas = int(input(\"Digite a quantidade de linhas da matriz: \"))\n",
        "    try:\n",
        "        matriz1 = Matriz(linhas)\n",
        "        matriz2 = Matriz(linhas)\n",
        "    except:\n",
        "        print(\"Erro ao criar matriz\")\n",
        "        exit()\n",
        "    print(\"Matriz 1: \", matriz1)\n",
        "    print(\"Matriz 2: \", matriz2)\n",
        "    print(\"Produto: \", matriz1 * matriz2)\n",
        "    exit()\n"
      ]
    }
  ]
}